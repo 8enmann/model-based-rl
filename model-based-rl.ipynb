{
 "cells": [
  {
   "cell_type": "markdown",
   "metadata": {},
   "source": [
    "# Model-based reinforcement learning\n",
    "Ben Mann and Andrew Schreiber\n",
    "### Motivation\n",
    "\n",
    "Model-based learning \n",
    "\n",
    "- may be more introspectable than model-free learning. \n",
    "- is outperforming model-free learning at irreversible games (see [Sokoban imagination](https://arxiv.org/pdf/1707.06203.pdf)). It hasn't successfully been applied to Atari. \n",
    "- algorithms can be informed that part of the training space is untouchable (i.e. don’t simulate human minds being tortured, we can tell you ahead of time that is bad). \n",
    "\n",
    "### Summary of idea\n",
    "\n",
    "DQN learns on CartPole much faster when input is [velocity, position, angle, angular velocity] vs pixels.\n",
    "\n",
    "Can we use an unsupervised generative model to collapse a high dimensional state representation to speed up model-free learning? Evaluate on classic control problems and basic Atari games.\n",
    "\n",
    "### Related work\n",
    "\n",
    "[5] uses a deep VAE to learn a low-dimensional representation of classic control problems, but doesn't use reinforcement learning on top of it.\n",
    "\n",
    "[7] and [9] build on Atari next video frame prediction [6] but fail to beat DQN performance.\n",
    "\n",
    "[8] merges model-based and model-free techniques but doesn't report Atari success.\n",
    "\n",
    "[2] uses the idea of combining model-based and model-free techniques for the purpose of data efficiency, but it doesn't operate on pixels, and in mujoco state + action should perfectly predict next state unlike atari where other agents can do stuff\n",
    "\n",
    "  \n",
    "\n",
    "So the big difference here is that we're aiming to beat DQN at data efficiency on Atari using an approximation of f(s, a) -&gt; s'. We start with CartPole to validate the approach and move on to Pong.\n",
    "\n",
    "### Project Roadmap / ideas\n",
    "\n",
    "1. [Cartpole](https://arxiv.org/pdf/1602.01783v1.pdf), [MountainCar](https://gym.openai.com/envs/MountainCar-v0), [Pendulum](https://gym.openai.com/envs/Pendulum-v0) \n",
    "    1. A2C on dense representation learns fast (upper bound of learning speed). Compare to \n",
    "        1. A2C trained on autoencoder-learned dense representation \n",
    "        2. A2C trained on pixels directly \n",
    "\n",
    "2. Pong \n",
    "    1. Is a dense representation learned from full-resolution color better than from downsample? \n",
    "        1. How much does model capacity matter as input resolution varies? \n",
    "\n",
    "    2. Can we learn faster than from pixels? \n",
    "    3. [This Stanford group failed to beat DQN](http://cs231n.stanford.edu/reports/2016/pdfs/116_Report.pdf) [9]. They say it's because compounding errors made long-term prediction hard, and pong and breakout have very long (>50) timestep dependencies. Seems like we could get around this by \n",
    "        1. predicting N steps ahead in one forward pass and\n",
    "        2. feed all N steps into model a la I2A [8] so that later frames can be discarded dynamically.\n",
    "    4. Can we do long-range, cheap rollouts using [dilated convolutions](http://www.inference.vc/dilated-convolutions-and-kronecker-factorisation/) [11]? Sokoban noted even 5-step rollouts were quite expensive \n",
    "\n",
    "3. Breakout(?) \n",
    "    1. Might be easier than pong due to denser rewards \n",
    "\n",
    "4. Montezuma (stretch goal) \n",
    "    1. Try adding noise to the input image, train an Inspector \n",
    "    2. Detect abnormally high variance in autoencoder's decoded output frame, use that as a signal to update model \n",
    "    3. Train new autoencoder per room, auto-detect when out of distribution a la \"Modular Multitask Reinforcement Learning with Policy Sketches\" [https://arxiv.org/abs/1611.01796v2](https://arxiv.org/abs/1611.01796v2) \n",
    "    4. Use an ensemble of autoencoders so that any of them can be swapped out or modified and agent still performs \n",
    "\n",
    "### Concrete steps\n",
    "\n",
    "1. Run env (CartPole-v0, Pendulum, MountainCar) \n",
    "2. Generate training data for autoencoder model using pre-trained DQN / random agent interpolation to maximize search space \n",
    "3. Train autoencoder to repro -- a/b split here \n",
    "    1. a frame \n",
    "    2. Sequence of frames \n",
    "\n",
    "4. Use dense autoencoder representation to preprocess frames and train a model \n",
    "5. Compare to upper and lower bound baselines (A2C trained on \"classic control\" signals and A2C trained on pixels) \n",
    "\n",
    "### Additional questions\n",
    "\n",
    "1. Does the learned autoencoder representation correlate with the real 4 dimensional cartpole observation? Chart r^2 for all combinations of variables. Chart scatter x vs y. \n",
    "2. For a random input state, what is the delta in the decoded representation given one action vs the other? If it's small, can we add a term to the loss to make it larger? \n",
    "3. How do loss and computational cost differ given different initial downsampling? Can we get away with preserving more detail? Does using 2 frame stack instead of 4 help? \n",
    "4. How quickly do imagination rollouts drift? How bad do they look? \n",
    "5. Would hard attention be an effective dimensionality reducer since most of the space is blank? \n",
    "6. How much better is VAE vs vanilla AE? \n",
    "  \n",
    "\n",
    "### Literature review\n",
    "\n",
    "1. Learning Multimodal Transition Dynamics for Model-Based Reinforcement Learning [https://arxiv.org/abs/1705.00470v2](https://arxiv.org/abs/1705.00470v2) \n",
    "2. Neural Network Dynamics for Model-Based Deep Reinforcement Learning with Model-Free Fine-Tuning [https://arxiv.org/abs/1708.02596v1](https://arxiv.org/abs/1708.02596v1) \n",
    "3. Neural Fitted Q Iteration - First Experiences with a Data Efficient Neural Reinforcement Learning Method [https://pdfs.semanticscholar.org/2820/01869bd502c7917db8b32b75593addfbbc68.pdf](https://pdfs.semanticscholar.org/2820/01869bd502c7917db8b32b75593addfbbc68.pdf) \n",
    "4. Deep Auto-Encoder Neural Networks in Reinforcement Learning [http://citeseerx.ist.psu.edu/viewdoc/download?doi=10.1.1.172.1873&rep=rep1&type=pdf](http://citeseerx.ist.psu.edu/viewdoc/download?doi=10.1.1.172.1873&rep=rep1&type=pdf) \n",
    "5. Embed to Control: A Locally Linear Latent Dynamics Model for Control from Raw Images [http://papers.nips.cc/paper/5964-embed-to-control-a-locally-linear-latent-dynamics-model-for-control-from-raw-images.pdf](http://papers.nips.cc/paper/5964-embed-to-control-a-locally-linear-latent-dynamics-model-for-control-from-raw-images.pdf) \n",
    "6. A Deep Learning Approach for Joint Video Frame and Reward Prediction in Atari Games [https://arxiv.org/abs/1611.07078](https://arxiv.org/abs/1611.07078) \n",
    "7. Action-Conditional Video Prediction using Deep Networks in Atari Games [https://arxiv.org/abs/1507.08750](https://arxiv.org/abs/1507.08750) \n",
    "8. Imagination-Augmented Agents for Deep Reinforcement Learning [https://arxiv.org/abs/1707.06203](https://arxiv.org/abs/1707.06203) \n",
    "9. Model-Based Reinforcement Learning for Playing Atari Games [http://cs231n.stanford.edu/reports/2016/pdfs/116_Report.pdf](http://cs231n.stanford.edu/reports/2016/pdfs/116_Report.pdf) \n",
    "10. Learning model-based planning from scratch [https://arxiv.org/pdf/1708.02596v1.pdf](https://arxiv.org/pdf/1708.02596v1.pdf) \n",
    "11. Temporal Convolutional Policy Networks [https://bcourses.berkeley.edu/files/70257152/download](https://bcourses.berkeley.edu/files/70257152/download)"
   ]
  },
  {
   "cell_type": "markdown",
   "metadata": {},
   "source": [
    "## Data collection\n",
    "Originally we thought that to train a good environment model, we should start collecting data with a pre-trained agent, then gradually degrade that agent's performance to random by introducing more and more random actions instead of what the agent suggests. In a real world task, you can imagine using human demonstrations to generate the world model instead.\n",
    "\n",
    "For Cartpole, it seems the state space is pretty well explored by completely random actions, so we never bothered."
   ]
  },
  {
   "cell_type": "code",
   "execution_count": 2,
   "metadata": {
    "collapsed": false
   },
   "outputs": [
    {
     "name": "stderr",
     "output_type": "stream",
     "text": [
      "[2017-09-18 12:27:07,321] Making new env: CartPole-v0\n"
     ]
    }
   ],
   "source": [
    "import time\n",
    "import numpy as np\n",
    "import gym\n",
    "from skimage.transform import resize\n",
    "%load_ext autoreload\n",
    "%autoreload 2\n",
    "\n",
    "env = gym.make('CartPole-v0')"
   ]
  },
  {
   "cell_type": "code",
   "execution_count": null,
   "metadata": {
    "collapsed": false
   },
   "outputs": [],
   "source": [
    "def preprocess(im):\n",
    "    return np.uint8(resize(np.mean(im, axis=-1), (im.shape[0]/4,im.shape[1]/4), mode='edge'))\n",
    "\n",
    "print(env.action_space, env.observation_space, env.observation_space.high.shape)\n",
    "frames, rewards, actions, observations = [], [], [], []\n",
    "n_frames = 0\n",
    "# CartPole ends at 200, but useful for other envs?\n",
    "MAX_FRAMES_PER_EPISODE = 1000\n",
    "# ~2GB of data for CartPole\n",
    "FRAMES_TO_COLLECT = 66000\n",
    "\n",
    "t = time.time()\n",
    "while n_frames < FRAMES_TO_COLLECT:\n",
    "    observation = env.reset()\n",
    "    fs = []\n",
    "    rs = []\n",
    "    as_ = []\n",
    "    os = []\n",
    "    for _ in range(MAX_FRAMES_PER_EPISODE):\n",
    "        if n_frames % FRAMES_TO_COLLECT / 10 == 0:\n",
    "            elapsed = time.time() - t\n",
    "            print('On frame', n_frames, 'elapsed', round(elapsed))\n",
    "        fs.append(preprocess(env.render(mode = 'rgb_array')))\n",
    "        action = env.action_space.sample()\n",
    "        observation, reward, done, info = env.step(action)\n",
    "        as_.append(action)\n",
    "        rs.append(reward)\n",
    "        os.append(observation)\n",
    "        n_frames += 1\n",
    "        if done:\n",
    "            frames.append(fs)\n",
    "            rewards.append(rs)\n",
    "            actions.append(as_)\n",
    "            observations.append(os)\n",
    "            break"
   ]
  },
  {
   "cell_type": "code",
   "execution_count": 8,
   "metadata": {
    "collapsed": false
   },
   "outputs": [],
   "source": [
    "# Save the data\n",
    "env_name = 'cartpole'\n",
    "np.save('%s_frames' % env_name, frames)\n",
    "np.save('%s_rewards' % env_name, rewards)\n",
    "np.save('%s_observations' % env_name, observations)\n",
    "np.save('%s_actions' % env_name, actions)"
   ]
  },
  {
   "cell_type": "markdown",
   "metadata": {},
   "source": [
    "## Sanity check the data"
   ]
  },
  {
   "cell_type": "code",
   "execution_count": 16,
   "metadata": {
    "collapsed": false
   },
   "outputs": [
    {
     "name": "stdout",
     "output_type": "stream",
     "text": [
      "Shape of stacked frames (6361, 100, 150)\n",
      "Range of values 0 to 255\n",
      "Bounding box (43, 78, 41, 116)\n"
     ]
    },
    {
     "data": {
      "image/png": "[encoded data removed]",
      "text/plain": [
       "<matplotlib.figure.Figure at 0x11c0fe6a0>"
      ]
     },
     "metadata": {},
     "output_type": "display_data"
    }
   ],
   "source": [
    "%matplotlib inline\n",
    "import matplotlib.pyplot as plt\n",
    "\n",
    "all_frames = np.vstack(np.stack(x) for x in frames)\n",
    "print('Shape of stacked frames', all_frames.shape)\n",
    "combined = np.min(all_frames, axis=0)\n",
    "plt.imshow(combined, cmap='gray', vmin=0, vmax=255)\n",
    "print('Range of values', np.min(combined), 'to', np.max(combined))\n",
    "def bbox(img):\n",
    "    '''Returns y_min, y_max, x_min, x_max\n",
    "    \n",
    "    https://stackoverflow.com/a/31402351/614529\n",
    "    '''\n",
    "    a = np.where(img != 255)\n",
    "    bounds = np.min(a[0]), np.max(a[0]), np.min(a[1]), np.max(a[1])\n",
    "    return bounds\n",
    "# This would be useful if we wanted to reduce input dimensionality \n",
    "# by cropping away the extra whitespace.\n",
    "print('Bounding box', bbox(combined))"
   ]
  },
  {
   "cell_type": "markdown",
   "metadata": {},
   "source": [
    "## Build the environment model\n",
    "Next, we use this collected data to train an autoencoder that takes a stack of frames and actions as inputs and outputs the next frame. This architecture requires no domain-specific information, though for games like Atari the framestack needs to be 4 frames deep to still pick up dynamics despite flickering.\n",
    "\n",
    "For a simple autoencoder we started with https://blog.keras.io/building-autoencoders-in-keras.html and modified it to our purposes. Key things to note:\n",
    "1. Dimensions matter! When scaling down and back up again, if the input dimensions don't evenly divide by the max pool layers or stride, when you scale back up, the dimensions won't match. E.g., 20//3 = 6, 6 * 3 = 18, 18 != 20. Two ways to get around this are\n",
    "  1. Scale your inputs to a number that's properly divisible (expensive)\n",
    "  1. Crop your inputs to a divisible number\n",
    "  1. Pad your inputs to get to a divisible number (best, since it doesn't require any domain knowledge)\n",
    "1. Convolutions don't work on framestacks, so we use a TimeDistributed layer wrapper to get around that. After everything gets flattened and fed into the dense layers, there's a chance for the environment dynamics to be processed. We could have put the frame stacks in the channel dimension but this seemed like a more general solution in case we wanted to use colors for some other environment.\n",
    "1. Initially we just concatenated the action (0 or 1 in CartPole) with the input to the bottleneck layer, but this didn't give the network enough flexibility to condition the outputs appropriately, nor would it scale to different number of actions. Instead, we one-hot encode the actions per standard practice and put a few Dense layers in front of them. We also tried tiling the actions per Deepmind's I2A, but it seemed like a waste of computation and had worse performance.\n",
    "1. The data is big enough that we have to get it in batches using `fit_generator`, else even my 64GB RAM machine OOM's.\n",
    "  "
   ]
  },
  {
   "cell_type": "code",
   "execution_count": null,
   "metadata": {
    "collapsed": false,
    "scrolled": true
   },
   "outputs": [
    {
     "name": "stdout",
     "output_type": "stream",
     "text": [
      "____________________________________________________________________________________________________\n",
      "Layer (type)                     Output Shape          Param #     Connected to                     \n",
      "====================================================================================================\n",
      "input_3 (InputLayer)             (None, 3, 96, 144, 1) 0                                            \n",
      "____________________________________________________________________________________________________\n",
      "time_distributed_14 (TimeDistrib (None, 3, 96, 144, 16 160         input_3[0][0]                    \n",
      "____________________________________________________________________________________________________\n",
      "time_distributed_15 (TimeDistrib (None, 3, 48, 72, 16) 0           time_distributed_14[0][0]        \n",
      "____________________________________________________________________________________________________\n",
      "time_distributed_16 (TimeDistrib (None, 3, 48, 72, 16) 2320        time_distributed_15[0][0]        \n",
      "____________________________________________________________________________________________________\n",
      "time_distributed_17 (TimeDistrib (None, 3, 24, 36, 16) 0           time_distributed_16[0][0]        \n",
      "____________________________________________________________________________________________________\n",
      "time_distributed_18 (TimeDistrib (None, 3, 24, 36, 16) 2320        time_distributed_17[0][0]        \n",
      "____________________________________________________________________________________________________\n",
      "input_4 (InputLayer)             (None, 2)             0                                            \n",
      "____________________________________________________________________________________________________\n",
      "time_distributed_19 (TimeDistrib (None, 3, 12, 18, 16) 0           time_distributed_18[0][0]        \n",
      "____________________________________________________________________________________________________\n",
      "dense_7 (Dense)                  (None, 16)            48          input_4[0][0]                    \n",
      "____________________________________________________________________________________________________\n",
      "flatten_2 (Flatten)              (None, 10368)         0           time_distributed_19[0][0]        \n",
      "____________________________________________________________________________________________________\n",
      "dense_8 (Dense)                  (None, 16)            272         dense_7[0][0]                    \n",
      "____________________________________________________________________________________________________\n",
      "dense_6 (Dense)                  (None, 32)            331808      flatten_2[0][0]                  \n",
      "____________________________________________________________________________________________________\n",
      "dense_9 (Dense)                  (None, 16)            272         dense_8[0][0]                    \n",
      "____________________________________________________________________________________________________\n",
      "concatenate_2 (Concatenate)      (None, 48)            0           dense_6[0][0]                    \n",
      "                                                                   dense_9[0][0]                    \n",
      "____________________________________________________________________________________________________\n",
      "bottleneck (Dense)               (None, 4)             196         concatenate_2[0][0]              \n",
      "____________________________________________________________________________________________________\n",
      "dense_10 (Dense)                 (None, 3456)          17280       bottleneck[0][0]                 \n",
      "____________________________________________________________________________________________________\n",
      "reshape_2 (Reshape)              (None, 1, 12, 18, 16) 0           dense_10[0][0]                   \n",
      "____________________________________________________________________________________________________\n",
      "time_distributed_20 (TimeDistrib (None, 1, 12, 18, 16) 2320        reshape_2[0][0]                  \n",
      "____________________________________________________________________________________________________\n",
      "time_distributed_21 (TimeDistrib (None, 1, 24, 36, 16) 0           time_distributed_20[0][0]        \n",
      "____________________________________________________________________________________________________\n",
      "time_distributed_22 (TimeDistrib (None, 1, 24, 36, 16) 2320        time_distributed_21[0][0]        \n",
      "____________________________________________________________________________________________________\n",
      "time_distributed_23 (TimeDistrib (None, 1, 48, 72, 16) 0           time_distributed_22[0][0]        \n",
      "____________________________________________________________________________________________________\n",
      "time_distributed_24 (TimeDistrib (None, 1, 48, 72, 16) 2320        time_distributed_23[0][0]        \n",
      "____________________________________________________________________________________________________\n",
      "time_distributed_25 (TimeDistrib (None, 1, 96, 144, 16 0           time_distributed_24[0][0]        \n",
      "____________________________________________________________________________________________________\n",
      "time_distributed_26 (TimeDistrib (None, 1, 96, 144, 1) 145         time_distributed_25[0][0]        \n",
      "====================================================================================================\n",
      "Total params: 361,781\n",
      "Trainable params: 361,781\n",
      "Non-trainable params: 0\n",
      "____________________________________________________________________________________________________\n",
      "Logging to Tensorboard in ./logs\n",
      "Epoch 1/10\n",
      " 1/76 [..............................] - ETA: 353s - loss: 0.0076"
     ]
    }
   ],
   "source": [
    "from autoencoder import load_data, make_model, train\n",
    "_, windowed_frames, windowed_frames_next, windowed_actions = load_data(window=3)\n",
    "model = make_model(windowed_frames)\n",
    "train(model, windowed_frames, windowed_frames_next, windowed_actions)"
   ]
  }
 ],
 "metadata": {
  "kernelspec": {
   "display_name": "Python 3",
   "language": "python",
   "name": "python3"
  },
  "language_info": {
   "codemirror_mode": {
    "name": "ipython",
    "version": 3
   },
   "file_extension": ".py",
   "mimetype": "text/x-python",
   "name": "python",
   "nbconvert_exporter": "python",
   "pygments_lexer": "ipython3",
   "version": "3.6.0"
  }
 },
 "nbformat": 4,
 "nbformat_minor": 2
}
